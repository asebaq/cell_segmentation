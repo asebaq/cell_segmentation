{
 "cells": [
  {
   "cell_type": "markdown",
   "metadata": {},
   "source": [
    "# Imports"
   ]
  },
  {
   "cell_type": "code",
   "execution_count": 2,
   "metadata": {
    "colab": {
     "base_uri": "https://localhost:8080/"
    },
    "id": "fTiVjmtp6H3p",
    "outputId": "0556631f-3d08-4b7e-a260-3c764190c9eb"
   },
   "outputs": [
    {
     "name": "stdout",
     "output_type": "stream",
     "text": [
      "Segmentation Models: using `tf.keras` framework.\n"
     ]
    }
   ],
   "source": [
    "import tensorflow as tf\n",
    "import segmentation_models_3D as sm\n",
    "\n",
    "from skimage import io\n",
    "from patchify import patchify, unpatchify\n",
    "\n",
    "import numpy as np\n",
    "from matplotlib import pyplot as plt\n",
    "\n",
    "import keras\n",
    "from keras import backend as K\n",
    "from tensorflow.keras.utils import to_categorical\n",
    "from sklearn.model_selection import train_test_split\n",
    "\n",
    "from glob import glob\n",
    "from tqdm import tqdm\n",
    "\n",
    "import os\n",
    "import imagecodecs"
   ]
  },
  {
   "cell_type": "markdown",
   "metadata": {},
   "source": [
    "# Config"
   ]
  },
  {
   "cell_type": "code",
   "execution_count": 3,
   "metadata": {
    "colab": {
     "base_uri": "https://localhost:8080/",
     "height": 227
    },
    "id": "zdLhrjaI6O5R",
    "outputId": "abff4455-1742-411c-e1b9-c956b71bb03f"
   },
   "outputs": [
    {
     "name": "stdout",
     "output_type": "stream",
     "text": [
      "2.8.0\n",
      "2.8.0\n",
      "Found GPU at: /device:GPU:0\n"
     ]
    }
   ],
   "source": [
    "print(tf.__version__)\n",
    "print(keras.__version__)\n",
    "# Make sure the GPU is available.\n",
    "device_name = tf.test.gpu_device_name()\n",
    "if device_name != '/device:GPU:0':\n",
    "  raise SystemError('GPU device not found')\n",
    "print('Found GPU at: {}'.format(device_name))"
   ]
  },
  {
   "cell_type": "code",
   "execution_count": 4,
   "metadata": {
    "colab": {
     "base_uri": "https://localhost:8080/"
    },
    "id": "S_ylSQAt6jca",
    "outputId": "bbad59f3-d69b-4282-bc6d-98960435ae0c"
   },
   "outputs": [],
   "source": [
    "# #Load input image and mask\n",
    "# import imagecodecs\n",
    "# #Here we load 256x256x256 pixel volume. We will break it into patches of 64x64x64 for training.\n",
    "# image = io.imread('E:\\\\3D segmentation\\\\Fluo-N3DH-SIM+\\\\01\\\\t000.tif')\n",
    "# print(image.shape)\n",
    "# img_patches = patchify(image, (32, 32, 32), step=32)  #Step=64 for 64 patches means no overlap\n",
    "# print(img_patches.shape)\n",
    "# mask = io.imread('E:\\\\3D segmentation\\\\Fluo-N3DH-SIM+\\\\01_GT\\\\SEG\\\\man_seg000.tif')\n",
    "# mask_patches = patchify(mask, (32, 32, 32), step=32)\n",
    "# print(mask_patches.shape)"
   ]
  },
  {
   "cell_type": "code",
   "execution_count": 5,
   "metadata": {},
   "outputs": [],
   "source": [
    "def normalize(vol):\n",
    "    # stretch contrast to 0-255\n",
    "    max_val = np.amax(vol)\n",
    "    min_val = np.amin(vol)\n",
    "    vol = (vol - min_val)/(max_val-min_val+1e-9)*255\n",
    "    return np.uint8(vol)\n"
   ]
  },
  {
   "cell_type": "markdown",
   "metadata": {},
   "source": [
    "# Load data"
   ]
  },
  {
   "cell_type": "code",
   "execution_count": 6,
   "metadata": {},
   "outputs": [
    {
     "name": "stderr",
     "output_type": "stream",
     "text": [
      "  0%|                                                                                            | 0/5 [00:00<?, ?it/s]"
     ]
    },
    {
     "name": "stdout",
     "output_type": "stream",
     "text": [
      "(59, 349, 639)"
     ]
    },
    {
     "name": "stderr",
     "output_type": "stream",
     "text": [
      " 40%|█████████████████████████████████▌                                                  | 2/5 [00:00<00:00,  6.67it/s]"
     ]
    },
    {
     "name": "stdout",
     "output_type": "stream",
     "text": [
      "\n",
      "(349, 639, 59)\n",
      "(59, 349, 639)\n",
      "(349, 639, 59)\n"
     ]
    },
    {
     "name": "stderr",
     "output_type": "stream",
     "text": [
      " 80%|███████████████████████████████████████████████████████████████████▏                | 4/5 [00:00<00:00,  6.71it/s]"
     ]
    },
    {
     "name": "stdout",
     "output_type": "stream",
     "text": [
      "(59, 349, 639)\n",
      "(349, 639, 59)\n",
      "(59, 349, 639)\n",
      "(349, 639, 59)\n"
     ]
    },
    {
     "name": "stderr",
     "output_type": "stream",
     "text": [
      "100%|████████████████████████████████████████████████████████████████████████████████████| 5/5 [00:00<00:00,  6.51it/s]\n"
     ]
    },
    {
     "name": "stdout",
     "output_type": "stream",
     "text": [
      "(59, 349, 639)\n",
      "(349, 639, 59)\n"
     ]
    },
    {
     "name": "stderr",
     "output_type": "stream",
     "text": [
      " 40%|█████████████████████████████████▌                                                  | 2/5 [00:00<00:00, 15.55it/s]"
     ]
    },
    {
     "name": "stdout",
     "output_type": "stream",
     "text": [
      "(59, 349, 639)\n",
      "(349, 639, 59)\n",
      "(59, 349, 639)\n",
      "(349, 639, 59)\n"
     ]
    },
    {
     "name": "stderr",
     "output_type": "stream",
     "text": [
      " 80%|███████████████████████████████████████████████████████████████████▏                | 4/5 [00:00<00:00, 14.68it/s]"
     ]
    },
    {
     "name": "stdout",
     "output_type": "stream",
     "text": [
      "(59, 349, 639)\n",
      "(349, 639, 59)\n",
      "(59, 349, 639)\n",
      "(349, 639, 59)\n"
     ]
    },
    {
     "name": "stderr",
     "output_type": "stream",
     "text": [
      "100%|████████████████████████████████████████████████████████████████████████████████████| 5/5 [00:00<00:00, 14.86it/s]"
     ]
    },
    {
     "name": "stdout",
     "output_type": "stream",
     "text": [
      "(59, 349, 639)\n",
      "(349, 639, 59)\n"
     ]
    },
    {
     "name": "stderr",
     "output_type": "stream",
     "text": [
      "\n"
     ]
    },
    {
     "name": "stdout",
     "output_type": "stream",
     "text": [
      "(5, 7, 16, 1, 128, 128, 32)\n",
      "(5, 7, 16, 1, 128, 128, 32)\n"
     ]
    }
   ],
   "source": [
    "#Load input images and masks.\n",
    "#base_dir = \"E:\\\\3D segmentation\\\\Fluo-N3DH-SIM+\\\\01\\\\\"\n",
    "base_dir= \"E:\\\\3D segmentation\\\\Fluo-N3DH-SIM+\\\\01_part\\\\\"\n",
    "images_paths = glob(os.path.join(base_dir, \"*.tif\"))\n",
    "images_paths.sort()\n",
    "mask_dir = \"E:\\\\3D segmentation\\\\Fluo-N3DH-SIM+\\\\01_GT_part\\\\\"\n",
    "masks_paths = glob(os.path.join(mask_dir, \"*.tif\"))\n",
    "masks_paths.sort()\n",
    "\n",
    "images = []\n",
    "masks = []\n",
    "\n",
    "for image_path in tqdm(images_paths):\n",
    "    image = io.imread(image_path)\n",
    "    print(image.shape)\n",
    "    image= np.transpose(image, (1, 2, 0))\n",
    "    print(image.shape)\n",
    "    image = patchify(image, (128,128,32), step=32)\n",
    "    images.append(image)\n",
    "    \n",
    "\n",
    "for mask_path in tqdm(masks_paths):\n",
    "    mask = io.imread(mask_path)\n",
    "    print(mask.shape)\n",
    "    mask= np.transpose(mask, (1, 2, 0))\n",
    "    print(mask.shape)\n",
    "    mask = patchify(mask, (128,128,32), step=32)\n",
    "    masks.append(mask)\n",
    "    #mask_path = image_path.replace(\"\\\\01\", \"\\\\01_GT\\\\SEG\").replace(\"\\\\t\", \"\\\\man_seg\")\n",
    "\n",
    "images = np.array(images)\n",
    "masks = np.array(masks)\n",
    "print(images.shape)\n",
    "print(masks.shape)"
   ]
  },
  {
   "cell_type": "code",
   "execution_count": 7,
   "metadata": {
    "colab": {
     "base_uri": "https://localhost:8080/",
     "height": 227
    },
    "id": "7zrXkI0uaHdn",
    "outputId": "47a55d71-ed0a-4397-8751-dabea1531ee8"
   },
   "outputs": [
    {
     "name": "stdout",
     "output_type": "stream",
     "text": [
      "(560, 128, 128, 32)\n",
      "(560, 128, 128, 32)\n"
     ]
    }
   ],
   "source": [
    "input_img = np.reshape(images, (-1, images.shape[4], images.shape[5], images.shape[6]))\n",
    "input_mask = np.reshape(masks, (-1, masks.shape[4], masks.shape[5], masks.shape[6]))\n",
    "input_mask = np.float32(input_mask)\n",
    "\n",
    "del images\n",
    "del masks\n",
    "print(input_img.shape)\n",
    "print(input_mask.shape)"
   ]
  },
  {
   "cell_type": "markdown",
   "metadata": {},
   "source": [
    "# Split data"
   ]
  },
  {
   "cell_type": "code",
   "execution_count": 8,
   "metadata": {
    "id": "C7Y8ucgQa-rn"
   },
   "outputs": [],
   "source": [
    "#Convert grey image to 3 channels by copying channel 3 times.\n",
    "#We do this as our unet model expects 3 channel input.\n",
    "\n",
    "train_img = np.stack((input_img,)*3, axis=-1)\n",
    "train_mask = np.expand_dims(input_mask, axis=4)\n",
    "X_train, X_test, y_train, y_test = train_test_split(train_img, train_mask, test_size = 0.15, random_state = 0)\n",
    "del train_img\n",
    "del train_mask\n",
    "\n",
    "# X_train, X_test, y_train, y_test = train_test_split(input_img, input_mask, test_size = 0.15, random_state = 0)\n",
    "# del input_img\n",
    "# del input_mask"
   ]
  },
  {
   "cell_type": "code",
   "execution_count": 9,
   "metadata": {},
   "outputs": [
    {
     "data": {
      "text/plain": [
       "(476, 128, 128, 32, 3)"
      ]
     },
     "execution_count": 9,
     "metadata": {},
     "output_type": "execute_result"
    }
   ],
   "source": [
    "X_train.shape"
   ]
  },
  {
   "cell_type": "markdown",
   "metadata": {},
   "source": [
    "# Loss functions"
   ]
  },
  {
   "cell_type": "code",
   "execution_count": 10,
   "metadata": {
    "id": "EsH9--wLdD88"
   },
   "outputs": [],
   "source": [
    "# Loss Function and coefficients to be used during training:\n",
    "def dice_coefficient(y_true, y_pred):\n",
    "    smoothing_factor = 1\n",
    "    flat_y_true = K.flatten(y_true)\n",
    "    flat_y_pred = K.flatten(y_pred)\n",
    "    return (2. * K.sum(flat_y_true * flat_y_pred) + smoothing_factor) / (K.sum(flat_y_true) + K.sum(flat_y_pred) + smoothing_factor)\n",
    "\n",
    "def dice_coefficient_loss(y_true, y_pred):\n",
    "    return 1 - dice_coefficient(y_true, y_pred)"
   ]
  },
  {
   "cell_type": "code",
   "execution_count": 11,
   "metadata": {
    "id": "hNeEzQqxdM1m"
   },
   "outputs": [],
   "source": [
    "encoder_weights = 'imagenet'\n",
    "BACKBONE = 'vgg16'  #Try vgg16, efficientnetb7, inceptionv3, resnet50\n",
    "activation = 'sigmoid'\n",
    "patch_size = 32\n",
    "n_classes = 1\n",
    "channels=3\n",
    "\n",
    "LR = 0.0001\n",
    "optim = tf.keras.optimizers.Adam(LR)\n",
    "\n",
    "# Segmentation models losses can be combined together by '+' and scaled by integer or float factor\n",
    "# set class weights for dice_loss (car: 1.; pedestrian: 2.; background: 0.5;)\n",
    "dice_loss = sm.losses.DiceLoss()\n",
    "focal_loss = sm.losses.CategoricalFocalLoss()\n",
    "total_loss = dice_loss + (1 * focal_loss)\n",
    "#loss = DiceLoss()\n",
    "\n",
    "# actulally total_loss can be imported directly from library, above example just show you how to manipulate with losses\n",
    "# total_loss = sm.losses.binary_focal_dice_loss # or sm.losses.categorical_focal_dice_loss\n",
    "\n",
    "metrics = [sm.metrics.IOUScore(threshold=0.5), sm.metrics.FScore(threshold=0.5)]"
   ]
  },
  {
   "cell_type": "code",
   "execution_count": 12,
   "metadata": {
    "id": "s-OFUbuCdpgY"
   },
   "outputs": [],
   "source": [
    "preprocess_input = sm.get_preprocessing(BACKBONE)"
   ]
  },
  {
   "cell_type": "code",
   "execution_count": 13,
   "metadata": {
    "id": "pIvjsscQeAT7"
   },
   "outputs": [],
   "source": [
    "#Preprocess input data - otherwise you end up with garbage resutls\n",
    "# and potentially model that does not converge.\n",
    "X_train_prep = preprocess_input(X_train)\n",
    "X_test_prep = preprocess_input(X_test)"
   ]
  },
  {
   "cell_type": "code",
   "execution_count": 14,
   "metadata": {},
   "outputs": [],
   "source": [
    "del X_train\n",
    "del X_test"
   ]
  },
  {
   "cell_type": "code",
   "execution_count": 15,
   "metadata": {},
   "outputs": [
    {
     "data": {
      "text/plain": [
       "dtype('float32')"
      ]
     },
     "execution_count": 15,
     "metadata": {},
     "output_type": "execute_result"
    }
   ],
   "source": [
    "X_train_prep.dtype"
   ]
  },
  {
   "cell_type": "code",
   "execution_count": 16,
   "metadata": {},
   "outputs": [
    {
     "data": {
      "text/plain": [
       "dtype('float32')"
      ]
     },
     "execution_count": 16,
     "metadata": {},
     "output_type": "execute_result"
    }
   ],
   "source": [
    "y_train.dtype"
   ]
  },
  {
   "cell_type": "code",
   "execution_count": 17,
   "metadata": {
    "colab": {
     "base_uri": "https://localhost:8080/",
     "height": 494
    },
    "id": "kwdZ1JHkeGr0",
    "outputId": "9dfbdda7-f022-4679-ae87-a200af6db19e"
   },
   "outputs": [
    {
     "name": "stdout",
     "output_type": "stream",
     "text": [
      "Model: \"model\"\n",
      "__________________________________________________________________________________________________\n",
      " Layer (type)                   Output Shape         Param #     Connected to                     \n",
      "==================================================================================================\n",
      " input_1 (InputLayer)           [(None, 128, 128, 3  0           []                               \n",
      "                                2, 3)]                                                            \n",
      "                                                                                                  \n",
      " block1_conv1 (Conv3D)          (None, 128, 128, 32  5248        ['input_1[0][0]']                \n",
      "                                , 64)                                                             \n",
      "                                                                                                  \n",
      " block1_conv2 (Conv3D)          (None, 128, 128, 32  110656      ['block1_conv1[0][0]']           \n",
      "                                , 64)                                                             \n",
      "                                                                                                  \n",
      " block1_pool (MaxPooling3D)     (None, 64, 64, 16,   0           ['block1_conv2[0][0]']           \n",
      "                                64)                                                               \n",
      "                                                                                                  \n",
      " block2_conv1 (Conv3D)          (None, 64, 64, 16,   221312      ['block1_pool[0][0]']            \n",
      "                                128)                                                              \n",
      "                                                                                                  \n",
      " block2_conv2 (Conv3D)          (None, 64, 64, 16,   442496      ['block2_conv1[0][0]']           \n",
      "                                128)                                                              \n",
      "                                                                                                  \n",
      " block2_pool (MaxPooling3D)     (None, 32, 32, 8, 1  0           ['block2_conv2[0][0]']           \n",
      "                                28)                                                               \n",
      "                                                                                                  \n",
      " block3_conv1 (Conv3D)          (None, 32, 32, 8, 2  884992      ['block2_pool[0][0]']            \n",
      "                                56)                                                               \n",
      "                                                                                                  \n",
      " block3_conv2 (Conv3D)          (None, 32, 32, 8, 2  1769728     ['block3_conv1[0][0]']           \n",
      "                                56)                                                               \n",
      "                                                                                                  \n",
      " block3_conv3 (Conv3D)          (None, 32, 32, 8, 2  1769728     ['block3_conv2[0][0]']           \n",
      "                                56)                                                               \n",
      "                                                                                                  \n",
      " block3_pool (MaxPooling3D)     (None, 16, 16, 4, 2  0           ['block3_conv3[0][0]']           \n",
      "                                56)                                                               \n",
      "                                                                                                  \n",
      " block4_conv1 (Conv3D)          (None, 16, 16, 4, 5  3539456     ['block3_pool[0][0]']            \n",
      "                                12)                                                               \n",
      "                                                                                                  \n",
      " block4_conv2 (Conv3D)          (None, 16, 16, 4, 5  7078400     ['block4_conv1[0][0]']           \n",
      "                                12)                                                               \n",
      "                                                                                                  \n",
      " block4_conv3 (Conv3D)          (None, 16, 16, 4, 5  7078400     ['block4_conv2[0][0]']           \n",
      "                                12)                                                               \n",
      "                                                                                                  \n",
      " block4_pool (MaxPooling3D)     (None, 8, 8, 2, 512  0           ['block4_conv3[0][0]']           \n",
      "                                )                                                                 \n",
      "                                                                                                  \n",
      " block5_conv1 (Conv3D)          (None, 8, 8, 2, 512  7078400     ['block4_pool[0][0]']            \n",
      "                                )                                                                 \n",
      "                                                                                                  \n",
      " block5_conv2 (Conv3D)          (None, 8, 8, 2, 512  7078400     ['block5_conv1[0][0]']           \n",
      "                                )                                                                 \n",
      "                                                                                                  \n",
      " block5_conv3 (Conv3D)          (None, 8, 8, 2, 512  7078400     ['block5_conv2[0][0]']           \n",
      "                                )                                                                 \n",
      "                                                                                                  \n",
      " block5_pool (MaxPooling3D)     (None, 4, 4, 1, 512  0           ['block5_conv3[0][0]']           \n",
      "                                )                                                                 \n",
      "                                                                                                  \n",
      " center_block1_conv (Conv3D)    (None, 4, 4, 1, 512  7077888     ['block5_pool[0][0]']            \n",
      "                                )                                                                 \n",
      "                                                                                                  \n",
      " center_block1_bn (BatchNormali  (None, 4, 4, 1, 512  2048       ['center_block1_conv[0][0]']     \n",
      " zation)                        )                                                                 \n",
      "                                                                                                  \n",
      " center_block1_relu (Activation  (None, 4, 4, 1, 512  0          ['center_block1_bn[0][0]']       \n",
      " )                              )                                                                 \n",
      "                                                                                                  \n",
      " center_block2_conv (Conv3D)    (None, 4, 4, 1, 512  7077888     ['center_block1_relu[0][0]']     \n",
      "                                )                                                                 \n",
      "                                                                                                  \n",
      " center_block2_bn (BatchNormali  (None, 4, 4, 1, 512  2048       ['center_block2_conv[0][0]']     \n",
      " zation)                        )                                                                 \n",
      "                                                                                                  \n",
      " center_block2_relu (Activation  (None, 4, 4, 1, 512  0          ['center_block2_bn[0][0]']       \n",
      " )                              )                                                                 \n",
      "                                                                                                  \n",
      " decoder_stage0_upsampling (UpS  (None, 8, 8, 2, 512  0          ['center_block2_relu[0][0]']     \n",
      " ampling3D)                     )                                                                 \n",
      "                                                                                                  \n",
      " decoder_stage0_concat (Concate  (None, 8, 8, 2, 102  0          ['decoder_stage0_upsampling[0][0]\n",
      " nate)                          4)                               ',                               \n",
      "                                                                  'block5_conv3[0][0]']           \n",
      "                                                                                                  \n",
      " decoder_stage0a_conv (Conv3D)  (None, 8, 8, 2, 256  7077888     ['decoder_stage0_concat[0][0]']  \n",
      "                                )                                                                 \n",
      "                                                                                                  \n",
      " decoder_stage0a_bn (BatchNorma  (None, 8, 8, 2, 256  1024       ['decoder_stage0a_conv[0][0]']   \n",
      " lization)                      )                                                                 \n",
      "                                                                                                  \n",
      " decoder_stage0a_relu (Activati  (None, 8, 8, 2, 256  0          ['decoder_stage0a_bn[0][0]']     \n",
      " on)                            )                                                                 \n",
      "                                                                                                  \n",
      " decoder_stage0b_conv (Conv3D)  (None, 8, 8, 2, 256  1769472     ['decoder_stage0a_relu[0][0]']   \n",
      "                                )                                                                 \n",
      "                                                                                                  \n",
      " decoder_stage0b_bn (BatchNorma  (None, 8, 8, 2, 256  1024       ['decoder_stage0b_conv[0][0]']   \n",
      " lization)                      )                                                                 \n",
      "                                                                                                  \n",
      " decoder_stage0b_relu (Activati  (None, 8, 8, 2, 256  0          ['decoder_stage0b_bn[0][0]']     \n",
      " on)                            )                                                                 \n",
      "                                                                                                  \n",
      " decoder_stage1_upsampling (UpS  (None, 16, 16, 4, 2  0          ['decoder_stage0b_relu[0][0]']   \n",
      " ampling3D)                     56)                                                               \n",
      "                                                                                                  \n",
      " decoder_stage1_concat (Concate  (None, 16, 16, 4, 7  0          ['decoder_stage1_upsampling[0][0]\n",
      " nate)                          68)                              ',                               \n",
      "                                                                  'block4_conv3[0][0]']           \n",
      "                                                                                                  \n",
      " decoder_stage1a_conv (Conv3D)  (None, 16, 16, 4, 1  2654208     ['decoder_stage1_concat[0][0]']  \n",
      "                                28)                                                               \n",
      "                                                                                                  \n",
      " decoder_stage1a_bn (BatchNorma  (None, 16, 16, 4, 1  512        ['decoder_stage1a_conv[0][0]']   \n",
      " lization)                      28)                                                               \n",
      "                                                                                                  \n",
      " decoder_stage1a_relu (Activati  (None, 16, 16, 4, 1  0          ['decoder_stage1a_bn[0][0]']     \n",
      " on)                            28)                                                               \n",
      "                                                                                                  \n",
      " decoder_stage1b_conv (Conv3D)  (None, 16, 16, 4, 1  442368      ['decoder_stage1a_relu[0][0]']   \n",
      "                                28)                                                               \n",
      "                                                                                                  \n",
      " decoder_stage1b_bn (BatchNorma  (None, 16, 16, 4, 1  512        ['decoder_stage1b_conv[0][0]']   \n",
      " lization)                      28)                                                               \n",
      "                                                                                                  \n",
      " decoder_stage1b_relu (Activati  (None, 16, 16, 4, 1  0          ['decoder_stage1b_bn[0][0]']     \n",
      " on)                            28)                                                               \n",
      "                                                                                                  \n",
      " decoder_stage2_upsampling (UpS  (None, 32, 32, 8, 1  0          ['decoder_stage1b_relu[0][0]']   \n",
      " ampling3D)                     28)                                                               \n",
      "                                                                                                  \n",
      " decoder_stage2_concat (Concate  (None, 32, 32, 8, 3  0          ['decoder_stage2_upsampling[0][0]\n",
      " nate)                          84)                              ',                               \n",
      "                                                                  'block3_conv3[0][0]']           \n",
      "                                                                                                  \n",
      " decoder_stage2a_conv (Conv3D)  (None, 32, 32, 8, 6  663552      ['decoder_stage2_concat[0][0]']  \n",
      "                                4)                                                                \n",
      "                                                                                                  \n",
      " decoder_stage2a_bn (BatchNorma  (None, 32, 32, 8, 6  256        ['decoder_stage2a_conv[0][0]']   \n",
      " lization)                      4)                                                                \n",
      "                                                                                                  \n",
      " decoder_stage2a_relu (Activati  (None, 32, 32, 8, 6  0          ['decoder_stage2a_bn[0][0]']     \n",
      " on)                            4)                                                                \n",
      "                                                                                                  \n",
      " decoder_stage2b_conv (Conv3D)  (None, 32, 32, 8, 6  110592      ['decoder_stage2a_relu[0][0]']   \n",
      "                                4)                                                                \n",
      "                                                                                                  \n",
      " decoder_stage2b_bn (BatchNorma  (None, 32, 32, 8, 6  256        ['decoder_stage2b_conv[0][0]']   \n",
      " lization)                      4)                                                                \n",
      "                                                                                                  \n",
      " decoder_stage2b_relu (Activati  (None, 32, 32, 8, 6  0          ['decoder_stage2b_bn[0][0]']     \n",
      " on)                            4)                                                                \n",
      "                                                                                                  \n",
      " decoder_stage3_upsampling (UpS  (None, 64, 64, 16,   0          ['decoder_stage2b_relu[0][0]']   \n",
      " ampling3D)                     64)                                                               \n",
      "                                                                                                  \n",
      " decoder_stage3_concat (Concate  (None, 64, 64, 16,   0          ['decoder_stage3_upsampling[0][0]\n",
      " nate)                          192)                             ',                               \n",
      "                                                                  'block2_conv2[0][0]']           \n",
      "                                                                                                  \n",
      " decoder_stage3a_conv (Conv3D)  (None, 64, 64, 16,   165888      ['decoder_stage3_concat[0][0]']  \n",
      "                                32)                                                               \n",
      "                                                                                                  \n",
      " decoder_stage3a_bn (BatchNorma  (None, 64, 64, 16,   128        ['decoder_stage3a_conv[0][0]']   \n",
      " lization)                      32)                                                               \n",
      "                                                                                                  \n",
      " decoder_stage3a_relu (Activati  (None, 64, 64, 16,   0          ['decoder_stage3a_bn[0][0]']     \n",
      " on)                            32)                                                               \n",
      "                                                                                                  \n",
      " decoder_stage3b_conv (Conv3D)  (None, 64, 64, 16,   27648       ['decoder_stage3a_relu[0][0]']   \n",
      "                                32)                                                               \n",
      "                                                                                                  \n",
      " decoder_stage3b_bn (BatchNorma  (None, 64, 64, 16,   128        ['decoder_stage3b_conv[0][0]']   \n",
      " lization)                      32)                                                               \n",
      "                                                                                                  \n",
      " decoder_stage3b_relu (Activati  (None, 64, 64, 16,   0          ['decoder_stage3b_bn[0][0]']     \n",
      " on)                            32)                                                               \n",
      "                                                                                                  \n",
      " decoder_stage4_upsampling (UpS  (None, 128, 128, 32  0          ['decoder_stage3b_relu[0][0]']   \n",
      " ampling3D)                     , 32)                                                             \n",
      "                                                                                                  \n",
      " decoder_stage4a_conv (Conv3D)  (None, 128, 128, 32  13824       ['decoder_stage4_upsampling[0][0]\n",
      "                                , 16)                            ']                               \n",
      "                                                                                                  \n",
      " decoder_stage4a_bn (BatchNorma  (None, 128, 128, 32  64         ['decoder_stage4a_conv[0][0]']   \n",
      " lization)                      , 16)                                                             \n",
      "                                                                                                  \n",
      " decoder_stage4a_relu (Activati  (None, 128, 128, 32  0          ['decoder_stage4a_bn[0][0]']     \n",
      " on)                            , 16)                                                             \n",
      "                                                                                                  \n",
      " decoder_stage4b_conv (Conv3D)  (None, 128, 128, 32  6912        ['decoder_stage4a_relu[0][0]']   \n",
      "                                , 16)                                                             \n",
      "                                                                                                  \n",
      " decoder_stage4b_bn (BatchNorma  (None, 128, 128, 32  64         ['decoder_stage4b_conv[0][0]']   \n",
      " lization)                      , 16)                                                             \n",
      "                                                                                                  \n",
      " decoder_stage4b_relu (Activati  (None, 128, 128, 32  0          ['decoder_stage4b_bn[0][0]']     \n",
      " on)                            , 16)                                                             \n",
      "                                                                                                  \n",
      " final_conv (Conv3D)            (None, 128, 128, 32  433         ['decoder_stage4b_relu[0][0]']   \n",
      "                                , 1)                                                              \n",
      "                                                                                                  \n",
      " sigmoid (Activation)           (None, 128, 128, 32  0           ['final_conv[0][0]']             \n",
      "                                , 1)                                                              \n",
      "                                                                                                  \n",
      "==================================================================================================\n",
      "Total params: 71,232,241\n",
      "Trainable params: 71,228,209\n",
      "Non-trainable params: 4,032\n",
      "__________________________________________________________________________________________________\n",
      "None\n"
     ]
    }
   ],
   "source": [
    "#Define the model. Here we use Unet but we can also use other model architectures from the library.\n",
    "model = sm.Unet(BACKBONE, classes=n_classes,\n",
    "                input_shape=(128,128,32,channels),\n",
    "                encoder_weights=encoder_weights,\n",
    "                activation=activation)\n",
    "\n",
    "model.compile(optimizer = optim, loss=dice_loss, metrics=metrics)\n",
    "print(model.summary())"
   ]
  },
  {
   "cell_type": "code",
   "execution_count": 18,
   "metadata": {
    "id": "mLGoW4VNeh1s"
   },
   "outputs": [
    {
     "ename": "InternalError",
     "evalue": "Failed copying input tensor from /job:localhost/replica:0/task:0/device:CPU:0 to /job:localhost/replica:0/task:0/device:GPU:0 in order to run _EagerConst: Dst tensor is not initialized.",
     "output_type": "error",
     "traceback": [
      "\u001b[1;31m---------------------------------------------------------------------------\u001b[0m",
      "\u001b[1;31mInternalError\u001b[0m                             Traceback (most recent call last)",
      "\u001b[1;32m~\\AppData\\Local\\Temp\\ipykernel_21120\\4215568271.py\u001b[0m in \u001b[0;36m<module>\u001b[1;34m\u001b[0m\n\u001b[0;32m      3\u001b[0m           \u001b[0my_train\u001b[0m\u001b[1;33m,\u001b[0m\u001b[1;33m\u001b[0m\u001b[1;33m\u001b[0m\u001b[0m\n\u001b[0;32m      4\u001b[0m           \u001b[0mbatch_size\u001b[0m\u001b[1;33m=\u001b[0m\u001b[1;36m2\u001b[0m\u001b[1;33m,\u001b[0m \u001b[0mepochs\u001b[0m\u001b[1;33m=\u001b[0m\u001b[1;36m20\u001b[0m\u001b[1;33m,\u001b[0m\u001b[1;33m\u001b[0m\u001b[1;33m\u001b[0m\u001b[0m\n\u001b[1;32m----> 5\u001b[1;33m           validation_data=(X_test_prep, y_test))\n\u001b[0m",
      "\u001b[1;32m~\\anaconda3\\envs\\tf_env\\lib\\site-packages\\keras\\utils\\traceback_utils.py\u001b[0m in \u001b[0;36merror_handler\u001b[1;34m(*args, **kwargs)\u001b[0m\n\u001b[0;32m     65\u001b[0m     \u001b[1;32mexcept\u001b[0m \u001b[0mException\u001b[0m \u001b[1;32mas\u001b[0m \u001b[0me\u001b[0m\u001b[1;33m:\u001b[0m  \u001b[1;31m# pylint: disable=broad-except\u001b[0m\u001b[1;33m\u001b[0m\u001b[1;33m\u001b[0m\u001b[0m\n\u001b[0;32m     66\u001b[0m       \u001b[0mfiltered_tb\u001b[0m \u001b[1;33m=\u001b[0m \u001b[0m_process_traceback_frames\u001b[0m\u001b[1;33m(\u001b[0m\u001b[0me\u001b[0m\u001b[1;33m.\u001b[0m\u001b[0m__traceback__\u001b[0m\u001b[1;33m)\u001b[0m\u001b[1;33m\u001b[0m\u001b[1;33m\u001b[0m\u001b[0m\n\u001b[1;32m---> 67\u001b[1;33m       \u001b[1;32mraise\u001b[0m \u001b[0me\u001b[0m\u001b[1;33m.\u001b[0m\u001b[0mwith_traceback\u001b[0m\u001b[1;33m(\u001b[0m\u001b[0mfiltered_tb\u001b[0m\u001b[1;33m)\u001b[0m \u001b[1;32mfrom\u001b[0m \u001b[1;32mNone\u001b[0m\u001b[1;33m\u001b[0m\u001b[1;33m\u001b[0m\u001b[0m\n\u001b[0m\u001b[0;32m     68\u001b[0m     \u001b[1;32mfinally\u001b[0m\u001b[1;33m:\u001b[0m\u001b[1;33m\u001b[0m\u001b[1;33m\u001b[0m\u001b[0m\n\u001b[0;32m     69\u001b[0m       \u001b[1;32mdel\u001b[0m \u001b[0mfiltered_tb\u001b[0m\u001b[1;33m\u001b[0m\u001b[1;33m\u001b[0m\u001b[0m\n",
      "\u001b[1;32m~\\anaconda3\\envs\\tf_env\\lib\\site-packages\\tensorflow\\python\\framework\\constant_op.py\u001b[0m in \u001b[0;36mconvert_to_eager_tensor\u001b[1;34m(value, ctx, dtype)\u001b[0m\n\u001b[0;32m    100\u001b[0m       \u001b[0mdtype\u001b[0m \u001b[1;33m=\u001b[0m \u001b[0mdtypes\u001b[0m\u001b[1;33m.\u001b[0m\u001b[0mas_dtype\u001b[0m\u001b[1;33m(\u001b[0m\u001b[0mdtype\u001b[0m\u001b[1;33m)\u001b[0m\u001b[1;33m.\u001b[0m\u001b[0mas_datatype_enum\u001b[0m\u001b[1;33m\u001b[0m\u001b[1;33m\u001b[0m\u001b[0m\n\u001b[0;32m    101\u001b[0m   \u001b[0mctx\u001b[0m\u001b[1;33m.\u001b[0m\u001b[0mensure_initialized\u001b[0m\u001b[1;33m(\u001b[0m\u001b[1;33m)\u001b[0m\u001b[1;33m\u001b[0m\u001b[1;33m\u001b[0m\u001b[0m\n\u001b[1;32m--> 102\u001b[1;33m   \u001b[1;32mreturn\u001b[0m \u001b[0mops\u001b[0m\u001b[1;33m.\u001b[0m\u001b[0mEagerTensor\u001b[0m\u001b[1;33m(\u001b[0m\u001b[0mvalue\u001b[0m\u001b[1;33m,\u001b[0m \u001b[0mctx\u001b[0m\u001b[1;33m.\u001b[0m\u001b[0mdevice_name\u001b[0m\u001b[1;33m,\u001b[0m \u001b[0mdtype\u001b[0m\u001b[1;33m)\u001b[0m\u001b[1;33m\u001b[0m\u001b[1;33m\u001b[0m\u001b[0m\n\u001b[0m\u001b[0;32m    103\u001b[0m \u001b[1;33m\u001b[0m\u001b[0m\n\u001b[0;32m    104\u001b[0m \u001b[1;33m\u001b[0m\u001b[0m\n",
      "\u001b[1;31mInternalError\u001b[0m: Failed copying input tensor from /job:localhost/replica:0/task:0/device:CPU:0 to /job:localhost/replica:0/task:0/device:GPU:0 in order to run _EagerConst: Dst tensor is not initialized."
     ]
    }
   ],
   "source": [
    "# Fit the model\n",
    "history=model.fit(X_train_prep,\n",
    "          y_train,\n",
    "          batch_size=2, epochs=20,\n",
    "          validation_data=(X_test_prep, y_test))"
   ]
  },
  {
   "cell_type": "code",
   "execution_count": null,
   "metadata": {
    "id": "w9Y8b-nkepBr"
   },
   "outputs": [],
   "source": [
    "#plot the training and validation IoU and loss at each epoch\n",
    "loss = history.history['loss']\n",
    "val_loss = history.history['val_loss']\n",
    "epochs = range(1, len(loss) + 1)\n",
    "plt.plot(epochs, loss, 'y', label='Training loss')\n",
    "plt.plot(epochs, val_loss, 'r', label='Validation loss')\n",
    "plt.title('Training and validation loss')\n",
    "plt.xlabel('Epochs')\n",
    "plt.ylabel('Loss')\n",
    "plt.legend()\n",
    "plt.show()\n",
    "\n",
    "acc = history.history['iou_score']\n",
    "val_acc = history.history['val_iou_score']\n",
    "\n",
    "plt.plot(epochs, acc, 'y', label='Training IOU')\n",
    "plt.plot(epochs, val_acc, 'r', label='Validation IOU')\n",
    "plt.title('Training and validation IOU')\n",
    "plt.xlabel('Epochs')\n",
    "plt.ylabel('IOU')\n",
    "plt.legend()\n",
    "plt.show()\n",
    "     "
   ]
  },
  {
   "cell_type": "code",
   "execution_count": null,
   "metadata": {},
   "outputs": [],
   "source": [
    "y_pred=model.predict(X_test)"
   ]
  },
  {
   "cell_type": "code",
   "execution_count": null,
   "metadata": {},
   "outputs": [],
   "source": [
    "#Test some random images\n",
    "import random\n",
    "test_img_number = random.randint(0, len(X_test))\n",
    "test_img = X_test[test_img_number]\n",
    "ground_truth=y_test[test_img_number]\n",
    "\n",
    "test_img_input=np.expand_dims(test_img, 0)\n",
    "test_img_input1 = preprocess_input(test_img_input)\n",
    "\n",
    "test_pred1 = model.predict(test_img_input1)\n",
    "#test_prediction1 = np.argmax(test_pred1, axis=4)[0,:,:,:]\n",
    "print(test_pred1.shape)"
   ]
  },
  {
   "cell_type": "code",
   "execution_count": null,
   "metadata": {},
   "outputs": [],
   "source": [
    "#Plot individual slices from test predictions for verification\n",
    "slice = 10\n",
    "plt.figure(figsize=(12, 8))\n",
    "plt.subplot(231)\n",
    "plt.title('Testing Image')\n",
    "plt.imshow(test_img[slice,:,:,0], cmap='gray')\n",
    "plt.subplot(232)\n",
    "plt.title('Testing Label')\n",
    "plt.imshow(ground_truth[slice,:,:])\n",
    "plt.subplot(233)\n",
    "plt.title('Prediction on test image')\n",
    "plt.imshow(test_pred1[slice,:,:])\n",
    "plt.show()"
   ]
  },
  {
   "cell_type": "code",
   "execution_count": null,
   "metadata": {},
   "outputs": [],
   "source": []
  }
 ],
 "metadata": {
  "accelerator": "GPU",
  "colab": {
   "gpuType": "T4",
   "provenance": []
  },
  "kernelspec": {
   "display_name": "Python 3 (ipykernel)",
   "language": "python",
   "name": "python3"
  },
  "language_info": {
   "codemirror_mode": {
    "name": "ipython",
    "version": 3
   },
   "file_extension": ".py",
   "mimetype": "text/x-python",
   "name": "python",
   "nbconvert_exporter": "python",
   "pygments_lexer": "ipython3",
   "version": "3.7.16"
  }
 },
 "nbformat": 4,
 "nbformat_minor": 1
}
